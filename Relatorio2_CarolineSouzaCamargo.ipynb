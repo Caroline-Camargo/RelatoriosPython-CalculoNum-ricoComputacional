{
  "nbformat": 4,
  "nbformat_minor": 0,
  "metadata": {
    "colab": {
      "provenance": [],
      "collapsed_sections": [
        "mpY-EuxbLY1V",
        "gKqR6hXDSfgM",
        "e98olAtMSlwp",
        "_o8jHhQRU0MS",
        "bl7fJAC2vqQ4",
        "-4aPyf7Kv9jW",
        "22T4CTc2SvlM",
        "pE5e3roZW6Jz",
        "_aOD2i65S5zo",
        "OLRfPUjhSXqi",
        "-G1wgemmSblR",
        "MVRRxLKNf_wL",
        "3G5QxDGsz15K",
        "-bawANzPS9A6",
        "57bhc5zBpvUv",
        "zvmP5j82UrHO",
        "7Kd3IATvJIty",
        "Puc1a1_Fak0j",
        "OCn7ZwzheZLh",
        "18EjVuiCfE4e",
        "pfx5I_vufv8-",
        "O3faO8_NfK7j"
      ],
      "authorship_tag": "ABX9TyNu7RK7aaeNin1YAxzar78u",
      "include_colab_link": true
    },
    "kernelspec": {
      "name": "python3",
      "display_name": "Python 3"
    },
    "language_info": {
      "name": "python"
    }
  },
  "cells": [
    {
      "cell_type": "markdown",
      "metadata": {
        "id": "view-in-github",
        "colab_type": "text"
      },
      "source": [
        "<a href=\"https://colab.research.google.com/github/Caroline-Camargo/RelatoriosPython-CalculoNumericoComputacional/blob/main/Relatorio2_CarolineSouzaCamargo.ipynb\" target=\"_parent\"><img src=\"https://colab.research.google.com/assets/colab-badge.svg\" alt=\"Open In Colab\"/></a>"
      ]
    },
    {
      "cell_type": "markdown",
      "source": [
        "# Relatório 2 Caroline Souza Camargo"
      ],
      "metadata": {
        "id": "b-Ij8DHLLLkt"
      }
    },
    {
      "cell_type": "markdown",
      "source": [
        "# Métodos"
      ],
      "metadata": {
        "id": "mpY-EuxbLY1V"
      }
    },
    {
      "cell_type": "code",
      "execution_count": null,
      "metadata": {
        "id": "NBoPNpz99lHm"
      },
      "outputs": [],
      "source": [
        "# Bibliotecas\n",
        "import numpy as np\n",
        "import math"
      ]
    },
    {
      "cell_type": "code",
      "source": [
        "def eliminacaoGauss(n, A, b, pivotamentoParcial = True, casaDecimalArredondamento = 100):\n",
        "  # Verifica se A é uma matriz quadrada\n",
        "  if len(A) != len(A[0]):\n",
        "    print(\"A matriz não é quadrada\")\n",
        "    return False\n",
        "\n",
        "  # Verifica número de equações e termos independentes:\n",
        "  if len(A) != len(b):\n",
        "    print(\"O número de equações deve ser igual ao número de termos independentes\")\n",
        "    return False\n",
        "\n",
        "  det = 1\n",
        "  info = 0\n",
        "  for j in range(0, n - 1):\n",
        "    p = j\n",
        "    Amax = abs(A[j][j])  # Pivô inicial\n",
        "\n",
        "    if pivotamentoParcial:\n",
        "      # Encontra o maior pivô na coluna abaixo do pivô atual\n",
        "      for k in range(j + 1, n):\n",
        "        if abs(A[k][j]) > Amax:\n",
        "          Amax = abs(A[k][j])\n",
        "          p = k\n",
        "\n",
        "      # Troca de linhas se necessário, atualizando o determinante\n",
        "      if p != j:\n",
        "        for k in range(0, n):  # Troca de linha na matriz\n",
        "          t = A[j][k]\n",
        "          A[j][k] = A[p][k]\n",
        "          A[p][k] = t\n",
        "\n",
        "        t = b[j]  # Troca de linha no vetor de termos independentes\n",
        "        b[j] = b[p]\n",
        "        b[p] = t\n",
        "        det = - det  # Troca de linhas inverte o sinal do determinante\n",
        "\n",
        "    if Amax == 0: # Pivô nulo\n",
        "      print(\"O sistema não adimite solução, pivô não pode ser nulo\")\n",
        "      return False\n",
        "\n",
        "    det = np.round(det * A[j][j], casaDecimalArredondamento)  # Multiplica o determinante pelo pivô atual\n",
        "\n",
        "    # Atualiza a matriz e o vetor de termos independentes\n",
        "    if abs(A[j][j]) != 0:\n",
        "      r = np.round(1 / A[j][j], casaDecimalArredondamento)  # Fator de normalização\n",
        "      for i in range(j + 1, n):\n",
        "        mult = np.round(A[i][j] * r, casaDecimalArredondamento)\n",
        "        A[i][j] = 0\n",
        "        for k in range(j + 1, n):\n",
        "          A[i][k] = np.round(A[i][k] - mult * A[j][k], casaDecimalArredondamento)\n",
        "        b[i] = np.round(b[i] - mult * b[j], casaDecimalArredondamento)\n",
        "    else:\n",
        "      if info == 0:\n",
        "        info = j\n",
        "\n",
        "  # Cálculo final do determinante\n",
        "  det = np.round(det * A[n-1][n-1], casaDecimalArredondamento)\n",
        "\n",
        "  if info == 0 and abs(A[n-1][n-1]) == 0:\n",
        "    info = n\n",
        "\n",
        "  # Exibe informações de saída e a matriz resultante após a eliminação de Gauss\n",
        "  print(f'\\nDet: {det}')\n",
        "  print(f'\\nInfo: \\n{info}')\n",
        "  print(f'\\nMatriz final: \\n{A}')\n",
        "\n",
        "  # Etapa de retro-substituição\n",
        "  return np.round(np.linalg.solve(A, b), casaDecimalArredondamento)"
      ],
      "metadata": {
        "id": "iJq9B3N2LvRM"
      },
      "execution_count": null,
      "outputs": []
    },
    {
      "cell_type": "code",
      "source": [
        "def FatoracaoLU(m, n, A, b):\n",
        "  # Verifica se A é uma matriz quadrada\n",
        "  if m != n:\n",
        "    print(\"A matriz não é quadrada\")\n",
        "    return False\n",
        "\n",
        "  # Verifica número de equações e termos independentes:\n",
        "  if len(A) != len(b):\n",
        "    print(\"O número de equações deve ser igual ao número de termos independentes\")\n",
        "    return False\n",
        "\n",
        "  # Verifica se a matriz é não singular (solução única)\n",
        "  for k in range(1, n+1):\n",
        "    det = np.linalg.det(A[:k, :k])\n",
        "    if det == 0:\n",
        "      print(\"A matriz não é singular\")\n",
        "      return False\n",
        "\n",
        "  U = A.copy()\n",
        "  L = np.eye(m) # Inicializa matriz L como uma matriz identidade\n",
        "\n",
        "  pivot = []\n",
        "  for i in range(0, m):\n",
        "    pivot.append(i)\n",
        "\n",
        "  PdU = 1\n",
        "  info = 0\n",
        "\n",
        "  # Loop para a decomposição LU\n",
        "  for j in range(0, min(m, n)):\n",
        "    p = j\n",
        "    Amax = abs(U[j][j])\n",
        "\n",
        "    for k in range(j + 1, m): # Encontra o pivô máximo\n",
        "      if abs(U[k][j]) > Amax:\n",
        "        Amax = abs(U[k][j])\n",
        "        p = k\n",
        "\n",
        "    # Verifica se o pivô é nulo\n",
        "    if Amax == 0:\n",
        "      print(\"O sistema não admite solução, pivô não pode ser nulo\")\n",
        "      return False\n",
        "\n",
        "    # Troca de linhas se necessário\n",
        "    if p != j:\n",
        "      for k in range(0, n):\n",
        "        t = U[j][k]\n",
        "        U[j][k] = U[p][k]\n",
        "        U[p][k] = t\n",
        "\n",
        "      t = U[j].copy()\n",
        "      U[j] = U[p]\n",
        "      U[p] = t\n",
        "\n",
        "      # Atualiza índices de pivô e o produto dos termos diagonais de U\n",
        "      i = pivot[j]\n",
        "      pivot[j] = pivot[p]\n",
        "      pivot[p] = i\n",
        "      PdU = -PdU\n",
        "\n",
        "    # Atualiza o produto dos termos diagonais de U\n",
        "    PdU = PdU * U[j][j]\n",
        "\n",
        "    # Atualiza as matrizes L e U\n",
        "    if abs(U[j][j]) != 0:\n",
        "      r = 1 / U[j][j]\n",
        "      for i in range(j + 1, m):\n",
        "        mult = U[i][j] * r\n",
        "        L[i][j] = mult  # Preenche a matriz L com os multiplicadores utilizados\n",
        "        U[i][j] = 0\n",
        "        for k in range(j + 1, n):\n",
        "          U[i][k] = U[i][k] - mult * U[j][k]\n",
        "    else:\n",
        "      if info == 0: # Verifica se o pivô é zero\n",
        "        info = j\n",
        "\n",
        "  # Resolve Ly = b e Ux = y para obter a solução final X\n",
        "  y = np.linalg.solve(L, b)\n",
        "  X = np.linalg.solve(U, y)\n",
        "\n",
        "  # Exibe informações de saída e a matriz resultante após a eliminação de Gauss\n",
        "  print(f'\\nPivot: {pivot}')\n",
        "  print(f'\\nPdU: {PdU}')\n",
        "  print(f'\\nMatriz U: \\n{U} \\n\\nMatriz L: \\n{L}')\n",
        "\n",
        "  # Retorna a solução arredondada para 3 casas decimais\n",
        "  return np.around(X, 3)"
      ],
      "metadata": {
        "id": "anwinqpOJtQv"
      },
      "execution_count": null,
      "outputs": []
    },
    {
      "cell_type": "code",
      "source": [
        "def fatoracaoCholesky(n, A, b):\n",
        "  # Verifica se A é uma matriz quadrada\n",
        "  if len(A) != len(A[0]):\n",
        "    print(\"A matriz não é quadrada\")\n",
        "    return False\n",
        "\n",
        "  # Verifica número de equações e termos independentes:\n",
        "  if len(A) != len(b):\n",
        "    print(\"O número de equações deve ser igual ao número de termos independentes\")\n",
        "    return False\n",
        "\n",
        "  # Verifica se a matriz é simétrica\n",
        "  if not np.array_equal(A, A.T):\n",
        "    print(\"A matriz não é simétrica\")\n",
        "    return False\n",
        "\n",
        "  # Verifica se todos os menores principais tem determinante positivo\n",
        "  for k in range(0, n):\n",
        "    det = np.linalg.det(A[:k, :k])\n",
        "    if det < 0:\n",
        "      print(\"A matriz não é positiva definida\")\n",
        "      return False\n",
        "\n",
        "  det = 1\n",
        "  info = 0\n",
        "  for j in range(0, n):\n",
        "    soma = 0\n",
        "    for k in range(0, j): # Loop para calcular a soma\n",
        "      soma = soma + A[j][k] * A[j][k]\n",
        "    t = A[j][j] - soma\n",
        "\n",
        "    if t > 0: # Verifica se a matriz é positiva\n",
        "      A[j][j] = math.sqrt(t)\n",
        "      r = 1 / A[j][j]\n",
        "      det = det * t\n",
        "    else:\n",
        "      info = j\n",
        "      return('Matriz não é definida como positiva')\n",
        "\n",
        "    # Atualização dos elementos abaixo da diagonal principal\n",
        "    for i in range(j + 1, n):\n",
        "      soma = 0\n",
        "      for k in range(0, j):\n",
        "        soma = soma + A[i][k] * A[j][k]\n",
        "      A[i][j] = (A[i][j] - soma) * r\n",
        "\n",
        "  G = np.tril(A) # Matriz triangular inferior\n",
        "  Gt = G.T # Transposta da matriz triangular inferior\n",
        "\n",
        "  # Resolve  Gy = b e Gt*x = y para obter a solução final X\n",
        "  y = np.linalg.solve(G, b)\n",
        "  x = np.linalg.solve(Gt, y)\n",
        "\n",
        "  # Exibe informações de saída e a matriz resultante após a eliminação de Gauss\n",
        "  print(f'\\nDet: {det}')\n",
        "  print(f'\\nInfo: {info}')\n",
        "  print(f'\\nMatriz G: \\n{G} \\n\\nMatriz Gt: \\n{Gt}')\n",
        "\n",
        "  return x"
      ],
      "metadata": {
        "id": "W_d4agM3g5_G"
      },
      "execution_count": null,
      "outputs": []
    },
    {
      "cell_type": "code",
      "source": [
        "def GaussJacobi(n, A, b, Toler, IterMax = 100):\n",
        "  if testesConvergencia(A, 'jacobi') is False:\n",
        "    return False\n",
        "\n",
        "  x = []\n",
        "  for i in range(0, n): # Inicialização de x com uma estimativa inicial\n",
        "    x.append(b[i] / A[i][i])\n",
        "\n",
        "  # Contador de iterações\n",
        "  Iter = 0\n",
        "\n",
        "  while True:\n",
        "    v = []\n",
        "    Iter = Iter + 1\n",
        "\n",
        "    # Cálculo da próxima iteração\n",
        "    for i in range(0, n):\n",
        "      Soma = 0\n",
        "      for j in range(0, n):\n",
        "        if i != j:\n",
        "          Soma = Soma + A[i][j] * x[j]\n",
        "      v.append((b[i] - Soma) / A[i][i])\n",
        "\n",
        "    # Cálculo das normas para avaliar a convergência\n",
        "    NormaNum = 0.0\n",
        "    NormaDen = 0.0\n",
        "    for i in range(0, n):\n",
        "      t = abs(v[i] - x[i])\n",
        "      if t > NormaNum:\n",
        "        NormaNum = t\n",
        "      if abs(v[i]) > NormaDen:\n",
        "        NormaDen = abs(v[i])\n",
        "      x[i] = v[i]\n",
        "\n",
        "    # Cálculo da norma relativa\n",
        "    NormaRel = float(NormaNum / NormaDen)\n",
        "\n",
        "    # Teste de convergência\n",
        "    if NormaRel <= Toler or Iter >= IterMax:\n",
        "      break\n",
        "\n",
        "  print(f'\\nIter: {Iter}')\n",
        "\n",
        "  # Determinação da informação sobre a convergência\n",
        "  if NormaRel <= Toler:\n",
        "    Info = 0\n",
        "  else:\n",
        "    Info = 1\n",
        "  print(f'\\nInfo: {Info}')\n",
        "\n",
        "  return x"
      ],
      "metadata": {
        "id": "TgC1Jsd5RTwj"
      },
      "execution_count": null,
      "outputs": []
    },
    {
      "cell_type": "code",
      "source": [
        "def GaussSeidel(n, A, b, Toler, IterMax = 100):\n",
        "  if testesConvergencia(A, 'seidel') is False:\n",
        "    return False\n",
        "\n",
        "  x = []\n",
        "  for i in range(0, n): # Inicialização de x com uma estimativa inicial\n",
        "    x.append(b[i] / A[i][i])\n",
        "\n",
        "  # Contador de iterações\n",
        "  Iter = 0\n",
        "\n",
        "  while True:\n",
        "    Iter = Iter + 1\n",
        "    NormaNum = 0.0\n",
        "    NormaDen = 0.0\n",
        "\n",
        "    v = []    # Lista temporária para armazenar os valores antigos de x\n",
        "    for i in range(0, n):\n",
        "      Soma = 0\n",
        "      for j in range(0, n):\n",
        "        if i != j:\n",
        "          Soma = Soma + A[i][j] * x[j]\n",
        "      v.append(x[i])   # Armazena o valor antigo de x[i]\n",
        "      x[i] = (b[i] - Soma) / A[i][i]   # Atualiza x[i] com o novo valor\n",
        "      t = abs(v[i] - x[i])   # Calcula a diferença entre os valores antigo e novo\n",
        "\n",
        "      if t > NormaNum: # Atualiza a norma numérica\n",
        "        NormaNum = t\n",
        "\n",
        "      if abs(x[i]) > NormaDen: # Atualiza a norma do denominador\n",
        "        NormaDen = abs(x[i])\n",
        "\n",
        "    NormaRel = NormaNum / NormaDen   # Calcula a norma relativa\n",
        "\n",
        "    # Teste de convergência\n",
        "    if NormaRel <= Toler or Iter >= IterMax:\n",
        "        break\n",
        "\n",
        "  print(f'\\nIter: {Iter}')\n",
        "\n",
        "  # Determinação da informação sobre a convergência\n",
        "  if NormaRel <= Toler:\n",
        "    info = 0\n",
        "  else:\n",
        "    info = 1\n",
        "  print(f'\\nInfo: {info}')\n",
        "  return x"
      ],
      "metadata": {
        "id": "_T5owporZe2t"
      },
      "execution_count": null,
      "outputs": []
    },
    {
      "cell_type": "code",
      "source": [
        "def testesConvergencia(matriz, metodo = 'jacobi'):\n",
        "  if metodo == 'jacobi' or metodo == 'seidel':\n",
        "    # Verificando condição do Raio Espectral\n",
        "    raio = 1\n",
        "    autovalores, autovetores = np.linalg.eig(matriz)\n",
        "    if abs(max(autovalores)) > 1:\n",
        "      raio = 0\n",
        "\n",
        "    print(f'\\nTeste Raio Espectral: ')\n",
        "    if raio == 0:\n",
        "      print(f'Não converge')\n",
        "    else:\n",
        "      print(f'Converge')\n",
        "\n",
        "\n",
        "    # Verificando critério das Linhas\n",
        "    linha = 1\n",
        "    for i in range(0, len(matriz)):\n",
        "      somaLinha = 0\n",
        "      for j in range(0, len(matriz[i])):\n",
        "        if i != j:\n",
        "          somaLinha += matriz[i][j]\n",
        "      if matriz[i][i] <= somaLinha:\n",
        "        linha = 0\n",
        "\n",
        "    print(f'\\nTeste critério Linhas: ')\n",
        "    if linha == 0:\n",
        "      print('Não converge')\n",
        "    else:\n",
        "      print(f'Converge')\n",
        "\n",
        "\n",
        "    # Verificando critério Colunas\n",
        "    coluna = 1\n",
        "    for i in range(0, len(matriz)):\n",
        "      somaColuna = 0\n",
        "      for j in range(0, len(matriz[i])):\n",
        "        if i != j:\n",
        "          somaColuna += matriz[j][i]\n",
        "      if matriz[i][i] <= somaColuna:\n",
        "        coluna = 0\n",
        "\n",
        "    print(f'\\nTeste critério Colunas: ')\n",
        "    if coluna == 0:\n",
        "      print('Não converge')\n",
        "    else:\n",
        "      print(f'Converge')\n",
        "\n",
        "\n",
        "  if metodo == 'seidel':\n",
        "    # Verificando critério de Sassenfeld\n",
        "    sassenfeld = 1\n",
        "    b = [0] * len(matriz)\n",
        "    for i in range(0, len(matriz)):\n",
        "        soma1 = 0\n",
        "        for j in range(i):\n",
        "            soma1 += abs(matriz[i][j]) * b[j]\n",
        "        soma2 = 0\n",
        "        for j in range(i + 1, len(matriz)):\n",
        "            soma2 += abs(matriz[i][j])\n",
        "        b[i] = 1 / abs(matriz[i][i]) * (soma1 + soma2)\n",
        "\n",
        "    print(f'\\nTeste critério Sassenfeld: ')\n",
        "    if max(b) < 1:\n",
        "      print('Converge')\n",
        "    else:\n",
        "      sassenfeld = 0\n",
        "      print('Não converge')\n",
        "\n",
        "    if raio == 1 or linha == 1 or coluna == 1 or sassenfeld == 1:\n",
        "      return True\n",
        "    else:\n",
        "      print(f'\\n\\nNão é possivel aplicar o método, não atendeu a nenhum critério')\n",
        "      return False\n",
        "\n",
        "  if raio == 1 or linha == 1 or coluna == 1:\n",
        "    return True\n",
        "  else:\n",
        "    print(f'\\n\\nNão é possivel aplicar o método, não atendeu a nenhum critério')\n",
        "    return False"
      ],
      "metadata": {
        "id": "bh4ZfQhjb9qa"
      },
      "execution_count": null,
      "outputs": []
    },
    {
      "cell_type": "markdown",
      "source": [
        "# QUESTÕES"
      ],
      "metadata": {
        "id": "gKqR6hXDSfgM"
      }
    },
    {
      "cell_type": "markdown",
      "source": [
        "## QUESTÃO 1"
      ],
      "metadata": {
        "id": "e98olAtMSlwp"
      }
    },
    {
      "cell_type": "markdown",
      "source": [
        "**Considere os seguintes sistemas:**\n",
        "\\begin{equation}\n",
        "\\begin{cases}\n",
        "    0.03x_1 + 58.9x_2 &= 59.2 \\\\\n",
        "    5.31x_1 - 6.10x_2 &= 47.0 \\\\\n",
        "\\end{cases}\n",
        "\\end{equation}\n",
        "\n",
        "\\begin{equation}\n",
        "\\begin{cases}\n",
        "    3.03x_1 - 12.1x_2 + 14x_3 &= -119 \\\\\n",
        "    -3.03x_1 + 12.1x_2 - 7x_3 &= 120 \\\\\n",
        "    6.11x_1 - 14.2x_2 + 21x_3 &= -139 \\\\\n",
        "\\end{cases}\n",
        "\\end{equation}\n",
        "\n",
        "**a) Resolva os sistemas acima usando o Métodos Direto de Eliminação de Gauss com Pivotamento e operações aritméticas com aproximação de três dígitos por\n",
        "arredondamento.**\n",
        "\n",
        "**b) Verifique se os sistemas acima são convergente se aplicarmos os Métodos Iterativos\n",
        "de Gauss-Jacobi e Gauss-Seidel. Justifique sua resposta.**"
      ],
      "metadata": {
        "id": "G08NSqeAStdp"
      }
    },
    {
      "cell_type": "markdown",
      "source": [
        "### Resposta"
      ],
      "metadata": {
        "id": "_o8jHhQRU0MS"
      }
    },
    {
      "cell_type": "markdown",
      "source": [
        "####a)"
      ],
      "metadata": {
        "id": "bl7fJAC2vqQ4"
      }
    },
    {
      "cell_type": "markdown",
      "source": [
        "O primeiro passo na resolução do exercício consistiu em montar a matriz dos sistemas mencionados. Em seguida, apliquei a função de eliminação de Gauss para os sistemas. É importante destacar que esse método oferece a opção de escolher a implementação do pivotamento parcial, conforme necessário. Além disso, é possível especificar, como parâmetro, a quantidade de casas decimais a ser utilizada para arredondar cada uma das operações dentro do método.\n",
        "Na resolução do exercício, a matriz 'A' representa a matriz dos coeficientes, enquanto o vetor 'b' corresponde ao vetor dos termos independentes.\n",
        "\n",
        "Abaixo, segue a aplicação do sistema:"
      ],
      "metadata": {
        "id": "02Y9l076qLkX"
      }
    },
    {
      "cell_type": "code",
      "source": [
        "# Dados fornecidos pelo exercício\n",
        "pivotamento = True\n",
        "arredondamento = 3\n",
        "\n",
        "A1 = np.array([[0.03, 58.9],\n",
        "              [5.31, -6.10]])\n",
        "b1 = np.array([59.2, 47.0])\n",
        "\n",
        "A2 = np.array([[3.03, -12.1, 14.0],\n",
        "              [-3.03, 12.1, -7.0],\n",
        "              [6.11, -14.2, 21.0]])\n",
        "b2 = np.array([-119.0, 120.0, -139.0])\n",
        "\n",
        "\n",
        "print(f'---SISTEMA 1---')\n",
        "solucao = eliminacaoGauss(2, A1, b1, pivotamento, arredondamento)\n",
        "print(f'\\nVetor Solucao: \\n{solucao}')\n",
        "\n",
        "print(f'\\n\\n\\n---SISTEMA 2---')\n",
        "solucao = eliminacaoGauss(3, A2, b2, pivotamento, arredondamento)\n",
        "print(f'\\nVetor Solucao: \\n{solucao}')"
      ],
      "metadata": {
        "colab": {
          "base_uri": "https://localhost:8080/"
        },
        "id": "Q1lpId4jUbO_",
        "outputId": "a0ac4023-ea66-4efe-a97b-db68af474559"
      },
      "execution_count": null,
      "outputs": [
        {
          "output_type": "stream",
          "name": "stdout",
          "text": [
            "---SISTEMA 1---\n",
            "\n",
            "Det: -312.955\n",
            "\n",
            "Info: \n",
            "0\n",
            "\n",
            "Matriz final: \n",
            "[[ 5.31  -6.1  ]\n",
            " [ 0.    58.937]]\n",
            "\n",
            "Vetor Solucao: \n",
            "[10.  1.]\n",
            "\n",
            "\n",
            "\n",
            "---SISTEMA 2---\n",
            "\n",
            "Det: -215.599\n",
            "\n",
            "Info: \n",
            "0\n",
            "\n",
            "Matriz final: \n",
            "[[  6.11  -14.2    21.   ]\n",
            " [  0.      5.043   3.437]\n",
            " [  0.      0.      6.997]]\n",
            "\n",
            "Vetor Solucao: \n",
            "[ 0.034 10.004  0.136]\n"
          ]
        }
      ]
    },
    {
      "cell_type": "markdown",
      "source": [
        "Podemos observar que ambos os sistemas foram resolvidos com sucesso usando o método de eliminação de Gauss. Através do determinante é possivel avaliar se o sistema tem uma solução única. Nestes casos, o determinante é não nulo, o que significa que o sistema tem uma solução única. A informação 0 indica que o processo de eliminação de Gauss foi realizado sem problemas. Já a matriz final é resultado do processo de eliminação, sendo no formato triangular superior.\n",
        "\n",
        "Por fim, é possivel visualisar vetores solução, que fornecem os valores das variáveis que satisfazem os sistemas lineares. No primeiro sistema x1 = 10 e x2 = 1. Já no segundo sistema a solução é x1 = 0.034, x2 = 10.004, e x3 = 0.136"
      ],
      "metadata": {
        "id": "Mu7EpJ9Es7nn"
      }
    },
    {
      "cell_type": "markdown",
      "source": [
        "####b)"
      ],
      "metadata": {
        "id": "-4aPyf7Kv9jW"
      }
    },
    {
      "cell_type": "markdown",
      "source": [
        "Para verificar a convergência dos sistemas, foi essencial implementar a função denominada 'testesConvergencia'. Esta função avalia se os critérios necessários para a aplicação dos métodos iterativos de Gauss-Jacobi e Gauss-Seidel estão satisfeitos. Os critérios considerados incluem o critério das linhas, o critério das colunas e a condição do Raio Espectral. No caso do método de Gauss-Seidel, é também necessário verificar o critério de Sassenfeld. Se algum desses critérios for atendido, é viável aplicar o método. No entanto, se nenhum deles for satisfeito, o método não pode ser aplicado. Essa função é chamada antes de executar esses métodos. Uma análise criteriosa desses critérios é fundamental para assegurar a eficácia dos métodos iterativos e evitar potenciais problemas de divergência.\n",
        "Abaixo segue a aplicação dos métodos Gauss-Jacobi e Gauss-Seidel para cada um dos dois sistemas:"
      ],
      "metadata": {
        "id": "ywBZZKrMztYb"
      }
    },
    {
      "cell_type": "code",
      "source": [
        "print(f'\\n--- Aplicando Gauss-Jacobi ---')\n",
        "solucao = GaussJacobi(2, A1, b1, 0.001)\n",
        "if solucao:\n",
        "  print(f'\\nVetor Solucao: \\n{np.round(solucao, 5)}')\n",
        "\n",
        "print(f'\\n\\n')\n",
        "solucao = GaussJacobi(3, A2, b2, 0.001)\n",
        "if solucao:\n",
        "  print(f'\\nVetor Solucao: \\n{np.round(solucao, 5)}')\n",
        "\n",
        "print(f'\\n\\n\\n--- Aplicando Gauss-Seidel ---')\n",
        "solucao = GaussSeidel(2, A1, b1, 0.001)\n",
        "if solucao:\n",
        "  print(f'\\nVetor Solucao: \\n{np.round(solucao, 5)}')\n",
        "\n",
        "print(f'\\n\\n')\n",
        "solucao = GaussSeidel(3, A2, b2, 0.001)\n",
        "if solucao:\n",
        "  print(f'\\nVetor Solucao: \\n{np.round(solucao, 5)}')"
      ],
      "metadata": {
        "colab": {
          "base_uri": "https://localhost:8080/"
        },
        "id": "lAFJW9edY72p",
        "outputId": "13bf610f-7cda-40ad-9d9d-eebc0cae7bbf"
      },
      "execution_count": null,
      "outputs": [
        {
          "output_type": "stream",
          "name": "stdout",
          "text": [
            "\n",
            "--- Aplicando Gauss-Jacobi ---\n",
            "\n",
            "Teste Raio Espectral: \n",
            "Não converge\n",
            "\n",
            "Teste critério Linhas: \n",
            "Converge\n",
            "\n",
            "Teste critério Colunas: \n",
            "Converge\n",
            "\n",
            "Iter: 2\n",
            "\n",
            "Info: 0\n",
            "\n",
            "Vetor Solucao: \n",
            "[9.99963 0.99968]\n",
            "\n",
            "\n",
            "\n",
            "\n",
            "Teste Raio Espectral: \n",
            "Não converge\n",
            "\n",
            "Teste critério Linhas: \n",
            "Não converge\n",
            "\n",
            "Teste critério Colunas: \n",
            "Não converge\n",
            "\n",
            "\n",
            "Não é possivel aplicar o método, não atendeu a nenhum critério\n",
            "\n",
            "\n",
            "\n",
            "--- Aplicando Gauss-Seidel ---\n",
            "\n",
            "Teste Raio Espectral: \n",
            "Não converge\n",
            "\n",
            "Teste critério Linhas: \n",
            "Converge\n",
            "\n",
            "Teste critério Colunas: \n",
            "Converge\n",
            "\n",
            "Teste critério Sassenfeld: \n",
            "Não converge\n",
            "\n",
            "Iter: 2\n",
            "\n",
            "Info: 0\n",
            "\n",
            "Vetor Solucao: \n",
            "[9.99963 0.99968]\n",
            "\n",
            "\n",
            "\n",
            "\n",
            "Teste Raio Espectral: \n",
            "Não converge\n",
            "\n",
            "Teste critério Linhas: \n",
            "Não converge\n",
            "\n",
            "Teste critério Colunas: \n",
            "Não converge\n",
            "\n",
            "Teste critério Sassenfeld: \n",
            "Não converge\n",
            "\n",
            "\n",
            "Não é possivel aplicar o método, não atendeu a nenhum critério\n"
          ]
        }
      ]
    },
    {
      "cell_type": "markdown",
      "source": [
        "Observa-se que, ao empregar o método de Gauss-Jacobi na primeira função, pelo menos um dos critérios foram atendidos, uma vez que o método convergiu para os valores de x1 e x2. Notavelmente, os critérios de linhas e colunas foram satisfeitos, embora o teste do raio espectral não tenha sido. É importante ressaltar, como anteriormente mencionado, que a aceitação de apenas um critério é suficiente para a execução do método. Dado que os critérios de linhas e colunas foram satisfeitos, esperava-se que, ao aplicar o método de Gauss-Seidel, também se chegasse a uma solução convergente, o que de fato ocorreu.\n",
        "\n",
        "Entretanto, para o segundo sistema, não houve convergência em nenhum dos critérios nos métodos de Gauss-Jacobi e Gauss-Seidel. Ou seja, tanto o teste do raio espectral quanto os testes de critério de linhas, critério de colunas e critério de Sassenfeld não foram atendidos. Isso implica que não é viável aplicar esses métodos ao último sistema."
      ],
      "metadata": {
        "id": "AGzloCsNFAtn"
      }
    },
    {
      "cell_type": "markdown",
      "source": [
        "## QUESTÃO 2"
      ],
      "metadata": {
        "id": "22T4CTc2SvlM"
      }
    },
    {
      "cell_type": "markdown",
      "source": [
        "**Uma indústria produz 4 tipo de produtos (1), (2), (3) e (4), os quais são processados e produzidos no decorrer da semana. Para produção de cada unidade desses produtos necessita-se de 4 diferentes tipos de matéria-prima (A), (B), (C) e (D), conforme tabela dada:**\n",
        "\\begin{array}{c|cccc}\n",
        "    & (A) & (B) & (C) & (D) \\\\\n",
        "    \\hline\n",
        "    (1) & 1 & 2 & 4 & 1 \\\\\n",
        "    (2) & 2 & 0 & 1 & 0 \\\\\n",
        "    (3) & 4 & 2 & 3 & 1 \\\\\n",
        "    (4) & 3 & 1 & 2 & 1 \\\\\n",
        "\\end{array}\n",
        "\n",
        "**Por exemplo, para produzir uma unidade de (1) precisa-se de 1 unidade de A, 2 unidades de (B), 4 unidades de (C) e 1 unidade de (D).**\n",
        "**A indústria possui disponível em estoque 16, 13, 27 e 7 unidades de (A), (B), (C) e (D), respectivamente. Quantas unidades de cada produto podem ser produzidas?**\n",
        "**Formule um modelo matemático, resolva-o usando o Método Direto de Fatoração LU e analise os resultados obtidos.**"
      ],
      "metadata": {
        "id": "TRSdkMqZTAXK"
      }
    },
    {
      "cell_type": "markdown",
      "source": [
        "### Resposta"
      ],
      "metadata": {
        "id": "pE5e3roZW6Jz"
      }
    },
    {
      "cell_type": "markdown",
      "source": [
        " O primeiro passo foi encontrar o modelo matemático que representasse a questão. Para isso, levou-se em consideração a coluna como refência, já que é refente as matérias primas e a infomação de estoque se referem a elas. Ou seja, as restrições foram formuladas para garantir que a utilização das matérias-primas não ultrapassasse os limites disponíveis em estoque.\n",
        " Assim, para representar as quantidades dos produtos 1, 2, 3 e 4 produzidos, utilizou-se as letras w, x, y, e z. Logo, ficou da seguinte forma o sistema:\n",
        "\n",
        "```\n",
        "materia prima A: 1w + 2x + 4y + 3z = 16\n",
        "matéria prima B: 2w + 0x + 2y + 1z = 13\n",
        "matéria prima C: 4w + 1x + 3y + 2z = 27\n",
        "matéria prima D: 1w + 0x + 1y + 1z = 7\n",
        "```\n",
        "\n",
        "Abaixo segue a aplicação desse sistema para o método direto de fatoração LU. Vale ressaltar, que para a aplicação do método LU não foi realizado nenhum tipo de arredondamento na sua implementação"
      ],
      "metadata": {
        "id": "xF3uRs_U3kFr"
      }
    },
    {
      "cell_type": "code",
      "source": [
        "A = np.array([[1.0, 2.0, 4.0, 3.0],\n",
        "              [2.0, 0.0, 2.0, 1.0],\n",
        "              [4.0, 1.0, 3.0, 2.0],\n",
        "              [1.0, 0.0, 1.0, 1.0]])\n",
        "b = np.array([16.0, 13.0, 27.0, 7.0])\n",
        "\n",
        "solucao = FatoracaoLU(4, 4, A, b)\n",
        "print(f'\\nVetor Solucao: \\n{solucao}')"
      ],
      "metadata": {
        "id": "vft0F9u9W8Av",
        "colab": {
          "base_uri": "https://localhost:8080/"
        },
        "outputId": "8deb11bd-e83b-4bb8-a0e1-2e0046438d27"
      },
      "execution_count": null,
      "outputs": [
        {
          "output_type": "stream",
          "name": "stdout",
          "text": [
            "\n",
            "Pivot: [2, 0, 1, 3]\n",
            "\n",
            "PdU: 5.0\n",
            "\n",
            "Matriz U: \n",
            "[[ 1.    2.    4.    3.  ]\n",
            " [ 0.   -4.   -6.   -5.  ]\n",
            " [ 0.    0.   -2.5  -1.25]\n",
            " [ 0.    0.    0.    0.5 ]] \n",
            "\n",
            "Matriz L: \n",
            "[[ 1.    0.    0.    0.  ]\n",
            " [ 2.    1.    0.    0.  ]\n",
            " [ 4.    1.75  1.    0.  ]\n",
            " [ 1.    0.5  -0.    1.  ]]\n",
            "\n",
            "Vetor Solucao: \n",
            "[5. 2. 1. 1.]\n"
          ]
        }
      ]
    },
    {
      "cell_type": "markdown",
      "source": [
        "Os resultados mostram que a decomposição LU foi bem-sucedida para o sistema de equações fornecido. Vale destacar também as informações intermediárias que são exibidas, em que L é uma matriz triangular inferior, U é uma matriz triangular superior e o vetor de pivoteamento indica as permutações de linhas realizadas durante o processo. Por último, o vetor de solução, que representa a solução do sistema de equações.\n",
        "\n",
        "Os valores encontrados refere-se as quantidades de cada produto que podem ser produzidas para atender às restrições de matéria-prima disponível. Assim, para o produto (1), a quantidade ótima a ser produzida é 5 unidades. Para o produto (2), a quantidade ótima a ser produzida é 2 unidades. Para o produto (3), a quantidade ótima a ser produzida é 1 unidade. Para o produto (4), a quantidade ótima a ser produzida é 1 unidade.\n",
        "\n",
        "Assim, essas quantidades são calculadas para maximizar a produção total, considerando as limitações de disponibilidade de matéria-prima nessa industria. Sendo a solução mais eficiente possível."
      ],
      "metadata": {
        "id": "7g-X1pksPW0D"
      }
    },
    {
      "cell_type": "markdown",
      "source": [
        "## QUESTÃO 3"
      ],
      "metadata": {
        "id": "_aOD2i65S5zo"
      }
    },
    {
      "cell_type": "markdown",
      "source": [
        "**Considere o sistema:**\n",
        "\\begin{equation}\n",
        "\\begin{cases}\n",
        "    1x_1 + x_2 + 3x_3 &= -2 \\\\\n",
        "    \\alpha x_1 + x_2 + 4x_3 &= -3 \\\\\n",
        "    5x_1 + 2x_2 + 1x_3 &= 4 \\\\\n",
        "\\end{cases}\n",
        "\\end{equation}\n",
        "\n",
        "**Para os valores de α:**\n",
        "\n",
        "**a) A matriz A pode ser decomposta em L.U? Justifique.**\n",
        "\n",
        "**b) O sistema pode ser resolvido por Fatoração Cholesky? Justifique.**\n",
        "\n",
        "**c) Considere α = 1 e resolva o sistema pelo Método de Eliminação de Gauss**"
      ],
      "metadata": {
        "id": "N_Xb8R7WTCJq"
      }
    },
    {
      "cell_type": "markdown",
      "source": [
        "### Resposta"
      ],
      "metadata": {
        "id": "OLRfPUjhSXqi"
      }
    },
    {
      "cell_type": "markdown",
      "source": [
        "#### A)"
      ],
      "metadata": {
        "id": "-G1wgemmSblR"
      }
    },
    {
      "cell_type": "markdown",
      "source": [
        "Para a matriz poder ser decomposta em LU algumas condições precisam ser sastifeitas entre elas estão\n",
        "\n",
        "*   A matriz 'A' deve ser quadrada\n",
        "*   O número de equações deve ser igual ao número de termos independentes\n",
        "*   A matriz deve ser não singular (solução única)\n",
        "\n",
        "A matriz fornecida tem a forma 3x3, portanto, atende à primeira condição. A segunda condição é que o número de equações deve ser igual ao número de termos independentes. Como matriz dos coeficientes tem 3 linhas e 3 colunas, e o vetor solução tem 3 elementos, o que também atende a essa condição. Já última condição deve ser analizada com cuidado, já que dependendo do valor de α pode ser que a condição não seja atendida.\n",
        "Para testar a última condição é necessário calcular o determinante da matriz em função de α e verificar se existe algum caso em que seja igual a zero:\n",
        "\n",
        "```\n",
        "det(A) = 1(1*1 - 2*4) -1(α*1 - 5*4) + 3(α*2 -5*1)\n",
        "det(A) = 1(1 - 8) -1(α - 20) + 3(2α - 5)\n",
        "det(A) = -7 -α +20 + 6α -15\n",
        "0 = 5α -2\n",
        "2 = 5α\n",
        "α = 2/5\n",
        "```\n",
        "\n",
        "O valor encontrado para α foi 2/5, logo não é possível aplicar o método da fatoração LU para qualquer valor de α, pois não atende a condição de ser uma matriz não singular.\n",
        "Essas verificações foram implemendas no código, assim se aplicarmos a matriz para resolução com α = 2/5 o método não pode prosseguir (deve ser apontado o erro)"
      ],
      "metadata": {
        "id": "XdXbq1SpTp-a"
      }
    },
    {
      "cell_type": "code",
      "source": [
        "alfa = 2/5\n",
        "\n",
        "# Dados do exercício\n",
        "A = np.array([[1.0, 1.0, 3.0],\n",
        "              [alfa, 1.0, 4.0],\n",
        "              [5.0, 2.0, 1.0],])\n",
        "b = np.array([-2.0, -3.0, 4.0])\n",
        "\n",
        "FatoracaoLU(3, 3, A, b)"
      ],
      "metadata": {
        "colab": {
          "base_uri": "https://localhost:8080/"
        },
        "id": "t6o9GDkaasQO",
        "outputId": "ca05a120-8d1c-4f59-bad6-1302b291d266"
      },
      "execution_count": null,
      "outputs": [
        {
          "output_type": "stream",
          "name": "stdout",
          "text": [
            "A matriz não é singular\n"
          ]
        },
        {
          "output_type": "execute_result",
          "data": {
            "text/plain": [
              "False"
            ]
          },
          "metadata": {},
          "execution_count": 11
        }
      ]
    },
    {
      "cell_type": "markdown",
      "source": [
        "#### B)"
      ],
      "metadata": {
        "id": "MVRRxLKNf_wL"
      }
    },
    {
      "cell_type": "markdown",
      "source": [
        "Para a matriz poder ser resolvida por Fatoração Cholesky algumas condições precisam ser sastifeitas entre elas estão\n",
        "\n",
        "*   A matriz 'A' deve ser quadrada\n",
        "*   O número de equações deve ser igual ao número de termos independentes\n",
        "*   A matriz deve ser simétrica (a matriz transposta de 'A' deve ser igual a 'A')\n",
        "*   A matriz deve ser definida positiva\n",
        "\n",
        "A matriz fornecida tem a forma 3x3, portanto, atende à primeira condição. A segunda condição é que o número de equações deve ser igual ao número de termos independentes. Como matriz dos coeficientes tem 3 linhas e 3 colunas, e o vetor solução tem 3 elementos, o que também atende a essa condição. No entanto, na terceira condição não é atendido visto que a transposta de 'A' não é igual a matriz 'A'.\n",
        "\n",
        "```\n",
        "Matriz A:\n",
        "[[1. 1. 3.]\n",
        " [α. 1. 4.]\n",
        " [5. 2. 1.]]\n",
        "\n",
        "Transposta de A:\n",
        "[[1. α. 5.]\n",
        " [1. 1. 2.]\n",
        " [3. 4. 1.]]\n",
        "```\n",
        "\n",
        "Logo, não é possível aplicar o método de Cholesky, uma vez que as matrizes são diferentes, e, portanto, não atendem à condição da matriz ser simétrica. Essas verificações foram implementadas no código. Assim, se tentarmos aplicar a matriz para a resolução, o método não pode prosseguir, devendo apontar o erro, independente do valor de α."
      ],
      "metadata": {
        "id": "8yN0HrE2gDgf"
      }
    },
    {
      "cell_type": "code",
      "source": [
        "fatoracaoCholesky(3, A, b)"
      ],
      "metadata": {
        "colab": {
          "base_uri": "https://localhost:8080/"
        },
        "id": "O7Lak5XdigXy",
        "outputId": "6b069f7d-04e5-4b81-953f-55888f8af274"
      },
      "execution_count": null,
      "outputs": [
        {
          "output_type": "stream",
          "name": "stdout",
          "text": [
            "A matriz não é simétrica\n"
          ]
        },
        {
          "output_type": "execute_result",
          "data": {
            "text/plain": [
              "False"
            ]
          },
          "metadata": {},
          "execution_count": 12
        }
      ]
    },
    {
      "cell_type": "markdown",
      "source": [
        "### C)"
      ],
      "metadata": {
        "id": "3G5QxDGsz15K"
      }
    },
    {
      "cell_type": "markdown",
      "source": [
        "Abaixo segue a aplicação do sistema para α = 1 e depois a aplicação do método de eliminação de Gauss"
      ],
      "metadata": {
        "id": "ze7l5woY3P-m"
      }
    },
    {
      "cell_type": "code",
      "source": [
        "alfa = 1\n",
        "\n",
        "# Dados do exercício\n",
        "A = np.array([[1.0, 1.0, 3.0],\n",
        "              [alfa, 1.0, 4.0],\n",
        "              [5.0, 2.0, 1.0],])\n",
        "b = np.array([-2.0, -3.0, 4.0])\n",
        "\n",
        "resultado = eliminacaoGauss(3, A, b)\n",
        "print(f'\\n{resultado}')\n"
      ],
      "metadata": {
        "colab": {
          "base_uri": "https://localhost:8080/"
        },
        "id": "d7k7Jhn30CkE",
        "outputId": "f9e1810f-21ec-4970-df44-f65c803915f9"
      },
      "execution_count": null,
      "outputs": [
        {
          "output_type": "stream",
          "name": "stdout",
          "text": [
            "\n",
            "Det: 3.0\n",
            "\n",
            "Info: \n",
            "0\n",
            "\n",
            "Matriz final: \n",
            "[[ 5.   2.   1. ]\n",
            " [ 0.   0.6  3.8]\n",
            " [ 0.   0.  -1. ]]\n",
            "\n",
            "[ 1.  0. -1.]\n"
          ]
        }
      ]
    },
    {
      "cell_type": "markdown",
      "source": [
        "Executando o sistema com α = 1, observa-se que o método convergiu para o resultado. A solução encontrada é x1 = 1, x2 = 0 e x3 = -1. Observa-se então que o método da eliminação de Gauss é bastante versátil e pode ser aplicado a uma ampla variedade de sistemas lineares. Ao contrário de outros métodos, como a decomposição LU, a fatoração de Cholesky que possuem mais restriçoes para aplicação do método."
      ],
      "metadata": {
        "id": "q6bbvK_42nsE"
      }
    },
    {
      "cell_type": "markdown",
      "source": [
        "## QUESTÃO 4"
      ],
      "metadata": {
        "id": "-bawANzPS9A6"
      }
    },
    {
      "cell_type": "markdown",
      "source": [
        "**Uma equipe de três paraquedistas ligados por uma corda de peso desprezável é\n",
        "lançada em queda livre a uma velocidade v = 5 m/s. Considere os seguintes dados:**\n",
        "\\begin{array}{c|ccc}\n",
        "    Paraquedista (i) & Massa (mi) Kg & Coef. de resistência (ci) (Kg/s) \\\\\n",
        "    \\hline\n",
        "    1 & 70 & 10 \\\\\n",
        "    2 & 60 & 14 \\\\\n",
        "    3 & 40 & 17 \\\\\n",
        "\\end{array}\n",
        "\n",
        "**O sistema linear resultante permite calcular a tensão em cada secção da corda (R e T ) e a aceleração da equipe (a)**\n",
        "\\begin{equation}\n",
        "\\begin{cases}\n",
        "    m1. g – c1. v – T = m1 . a \\\\\n",
        "    m2. g – c2. v + T – R = m2 . a \\\\\n",
        "    m3. g – c3. v + R = m3 . a \\\\\n",
        "\\end{cases}\n",
        "\\end{equation}\n",
        "\n",
        "**(considere g = 9.8 m/s2).**\n",
        "\n",
        "**O que poderia dizer acerca da convergência do método iterativo de Gauss-Seidel quando aplicado ao sistema? Justifique**"
      ],
      "metadata": {
        "id": "zmD9ZFCSTGbB"
      }
    },
    {
      "cell_type": "markdown",
      "source": [
        "### Resposta"
      ],
      "metadata": {
        "id": "57bhc5zBpvUv"
      }
    },
    {
      "cell_type": "markdown",
      "source": [
        "O primeiro passo para resolução do problema foi substituir as informações que foram dadas nos sistemas. Ficando da seguinte forma:\n",
        "\n",
        "```\n",
        "#Equação 1:\n",
        "70*9,8 -10*5 -T = 70*a\n",
        "636 -T = 70a\n",
        "T + 70a = 636\n",
        "\n",
        "#Equação 2:\n",
        "60*9,8 -14*5 +T -R = 60*a\n",
        "518 +T -R = 60a\n",
        "T -R -60a = -518\n",
        "\n",
        "#Equação 3:\n",
        "40*9,8 -17*5 +R = 40*a\n",
        "307 + R = 40a\n",
        "R -40a = -307\n",
        "\n",
        "#Sistema final:\n",
        "   T    +70a = 636\n",
        "   T -R -60a = -518\n",
        "      R -40a = -307\n",
        "\n",
        "```\n",
        "\n",
        "O próximo passo foi aplicar o sistema no método iterativo de Gauss-Seidel e verificar se os critérios serão atendidos\n"
      ],
      "metadata": {
        "id": "VXrL9sq0pz4E"
      }
    },
    {
      "cell_type": "code",
      "source": [
        "A = np.array([[1.0, 0.0, 70.0],\n",
        "              [1.0, -1.0, -60.0],\n",
        "              [0.0, 1.0, -40.0],])\n",
        "b = np.array([636.0, -518.0, -307.0])\n",
        "\n",
        "resultado = GaussSeidel(3, A, b, 0.001)\n",
        "\n",
        "print(resultado)"
      ],
      "metadata": {
        "colab": {
          "base_uri": "https://localhost:8080/"
        },
        "id": "G4NVDlIevHq0",
        "outputId": "dbb86547-56be-4253-fbdf-5524dcf9bb6d"
      },
      "execution_count": null,
      "outputs": [
        {
          "output_type": "stream",
          "name": "stdout",
          "text": [
            "\n",
            "Teste Raio Espectral: \n",
            "Não converge\n",
            "\n",
            "Teste critério Linhas: \n",
            "Não converge\n",
            "\n",
            "Teste critério Colunas: \n",
            "Não converge\n",
            "\n",
            "Teste critério Sassenfeld: \n",
            "Não converge\n",
            "\n",
            "\n",
            "Não é possivel aplicar o método, não atendeu a nenhum critério\n",
            "False\n"
          ]
        }
      ]
    },
    {
      "cell_type": "markdown",
      "source": [
        "Pode-se observar que o sistema não convergiu para nenhum dos critérios. Logo não é possível aplicar o método para esse sistema.\n",
        "\n",
        "É importante notar que a escolha de um método iterativo adequado pode depender da natureza específica do sistema em questão. Outros métodos iterativos, como o método de Jacobi, podem ser considerados. Em alguns casos, métodos diretos, como a eliminação de Gauss, podem ser preferíveis também.\n",
        "\n",
        "Caso retirássemos os critérios o método não iria convergir, executando infinitamente ou até o limite máximo de iterações."
      ],
      "metadata": {
        "id": "felRYUAIVASz"
      }
    },
    {
      "cell_type": "markdown",
      "source": [
        "##QUESTÃO 5"
      ],
      "metadata": {
        "id": "zvmP5j82UrHO"
      }
    },
    {
      "cell_type": "markdown",
      "source": [
        "**Resolva o seguinte sistema de equações**\n",
        "\\begin{equation}\n",
        "\\begin{cases}\n",
        "    1,05 x1 + 2,05 x2 = 5,15 \\\\\n",
        "    1,1 x1 + 2,0 x2 = 5,1 \\\\\n",
        "\\end{cases}\n",
        "\\end{equation}\n",
        "\n",
        "**a) Graficamente.**\n",
        "\n",
        "**b) Por Eliminação de Gauss com Pivotamento Parcial, de modo exato.**\n",
        "\n",
        "**c) Por Eliminação de Gauss com Pivotamento Parcial, mas com três algarismos significativos, utilizando arredondamento.**\n",
        "\n",
        "**d) Justifique os resultados obtidos.**"
      ],
      "metadata": {
        "id": "qqAtJhPQUs36"
      }
    },
    {
      "cell_type": "markdown",
      "source": [
        "### Resposta\n"
      ],
      "metadata": {
        "id": "7Kd3IATvJIty"
      }
    },
    {
      "cell_type": "markdown",
      "source": [
        "#### A)"
      ],
      "metadata": {
        "id": "Puc1a1_Fak0j"
      }
    },
    {
      "cell_type": "markdown",
      "source": [
        "O primeiro passo para possibilitar a exibição do gráfico foi isolar uma das incóginitas nos dois sistemas:\n",
        "\n",
        "```\n",
        "função 1\n",
        "1.05*x1 + 2.05*x2 = 5.15\n",
        "2.05*x2 = 5.15 - 1.05*x1\n",
        "x2 = (5.15 - 1.05*x1) / 2.05\n",
        "\n",
        "\n",
        "função 2\n",
        "1.1*x1 + 2.0*x2 = 5.1\n",
        "2.0*x2 = 5.1 - 1.1*x1\n",
        "x2 = (5.1 - 1.1*x1) / 2.0\n",
        "```\n",
        "\n",
        "O próximo passo foi construir as funções lambda e exibir o gráfico das duas funções.\n"
      ],
      "metadata": {
        "id": "-rFL8Vjtanoc"
      }
    },
    {
      "cell_type": "code",
      "source": [
        "import numpy as np\n",
        "import matplotlib.pyplot as plt\n",
        "\n",
        "# funções lambda do sistema 1\n",
        "f1 = lambda x: (5.15 - 1.05 * x) / 2.05\n",
        "f2 = lambda x: (5.1 - 1.1 * x) / 2.0\n",
        "\n",
        "x = np.linspace(-1, 2, 10)\n",
        "y1 = f1(x)\n",
        "y2 = f2(x)\n",
        "\n",
        "plt.plot(x, y1, label='1.05x1 + 2.05x2 = 5.15')\n",
        "plt.plot(x, y2, label='1.1x1 + 2.0x2 = 5.1')\n",
        "plt.xlabel('x1')\n",
        "plt.ylabel('x2')\n",
        "plt.legend()\n",
        "\n",
        "plt.grid(True)\n",
        "plt.show()"
      ],
      "metadata": {
        "colab": {
          "base_uri": "https://localhost:8080/",
          "height": 449
        },
        "id": "dOR9JY3zRS9r",
        "outputId": "6aae83f2-c156-4a0f-80db-53b5c039dbda"
      },
      "execution_count": null,
      "outputs": [
        {
          "output_type": "display_data",
          "data": {
            "text/plain": [
              "<Figure size 640x480 with 1 Axes>"
            ],
            "image/png": "[encoded data removed]"
          },
          "metadata": {}
        }
      ]
    },
    {
      "cell_type": "markdown",
      "source": [
        "Analisando o gráfico é possível perceber que a interseção dessas linhas é onde fica a solução do sistema, ou seja, aproximadamente em x1 = 1 e x2 = 2.\n",
        "É importante destacar que essa abordagem gráfica é particularmente eficaz quando lidamos com sistemas mais simples, envolvendo duas variáveis. À medida que o número de variáveis aumenta, a visualização gráfica torna-se impraticável."
      ],
      "metadata": {
        "id": "_MBEVWVNc7tL"
      }
    },
    {
      "cell_type": "markdown",
      "source": [
        "#### B)"
      ],
      "metadata": {
        "id": "OCn7ZwzheZLh"
      }
    },
    {
      "cell_type": "markdown",
      "source": [
        "Segue abaixo a aplicação do sistema para o método da eliminação de Gauss com pivotamento parcial. Aqui vale ressaltar que quando não é definido o número de casas decimais a opção por padrão é 100 digitos"
      ],
      "metadata": {
        "id": "lwBy-CIHedrM"
      }
    },
    {
      "cell_type": "code",
      "source": [
        "A = np.array([[1.05, 2.05],\n",
        "              [1.1, 2.0]])\n",
        "b = np.array([5.15, 5.1])\n",
        "\n",
        "print(f'\\n---Modo exato---')\n",
        "resultado = eliminacaoGauss(2, A.copy(), b.copy(), True)\n",
        "print(f'\\nresultado: {resultado}\\n\\n')"
      ],
      "metadata": {
        "colab": {
          "base_uri": "https://localhost:8080/"
        },
        "id": "eG-G9ej4Jbu8",
        "outputId": "82797c4f-b416-4631-d9f3-a43d8053081d"
      },
      "execution_count": null,
      "outputs": [
        {
          "output_type": "stream",
          "name": "stdout",
          "text": [
            "\n",
            "---Modo exato---\n",
            "\n",
            "Det: -0.15499999999999925\n",
            "\n",
            "Info: \n",
            "0\n",
            "\n",
            "Matriz final: \n",
            "[[1.1        2.        ]\n",
            " [0.         0.14090909]]\n",
            "\n",
            "resultado: [1. 2.]\n",
            "\n",
            "\n"
          ]
        }
      ]
    },
    {
      "cell_type": "markdown",
      "source": [
        "#### C)"
      ],
      "metadata": {
        "id": "18EjVuiCfE4e"
      }
    },
    {
      "cell_type": "markdown",
      "source": [
        "Segue abaixo novamente a aplicação do sistema para o método da eliminação de Gauss com pivotamento parcial. No entanto, agora utilizando arredondamento, com precisão de três algarismos significativos"
      ],
      "metadata": {
        "id": "bDc04UGqfM-l"
      }
    },
    {
      "cell_type": "code",
      "source": [
        "print(f'\\n---Modo aproximado---')\n",
        "teste = eliminacaoGauss(2, A.copy(), b.copy(), True, 3)\n",
        "print(f'\\nresultado: {resultado}')"
      ],
      "metadata": {
        "colab": {
          "base_uri": "https://localhost:8080/"
        },
        "id": "KflT8thrfICf",
        "outputId": "d4618702-a75f-42e5-ed79-3b8c0f5d175f"
      },
      "execution_count": null,
      "outputs": [
        {
          "output_type": "stream",
          "name": "stdout",
          "text": [
            "\n",
            "---Modo aproximado---\n",
            "\n",
            "Det: -0.156\n",
            "\n",
            "Info: \n",
            "0\n",
            "\n",
            "Matriz final: \n",
            "[[1.1   2.   ]\n",
            " [0.    0.142]]\n",
            "\n",
            "resultado: [1. 2.]\n"
          ]
        }
      ]
    },
    {
      "cell_type": "markdown",
      "source": [
        "#### D)"
      ],
      "metadata": {
        "id": "pfx5I_vufv8-"
      }
    },
    {
      "cell_type": "markdown",
      "source": [
        "Analisando os resultados vemos que ambas abordagem conseguiram convergir para o resultado, x1 = 1 e x2 = 2.\n",
        "O uso de um limite nos algarismos significativos com arredondamento surgiu efeito apenas nos cálculos intermediários, como o determinante que pode variar dependendo da precisão numérica utilizada nos cálculos.\n",
        "O método de eliminação de Gauss com pivotamento parcial ajuda a simplificar o sistema para encontrar essas soluções. Conforme visto em aula, o processo de eliminação geram elementos não-nulos, onde originalmente tinham elementos nulos. Técnicas de Pivoteamento amenizam tais erros e reduzem os problemas de arredondamento durante a Eliminação de Gauss. Como as duas abordagens utilizaram o pivoteamento parcial é esperado que esses erros tenham menos chancer de acontecer.\n",
        "\n",
        "\n",
        "Em resumo, os resultados estão de acordo com as expectativas para um sistema consistente e determinado."
      ],
      "metadata": {
        "id": "mEbWDQfdfzOI"
      }
    },
    {
      "cell_type": "markdown",
      "source": [
        "#Anotações Aula"
      ],
      "metadata": {
        "id": "O3faO8_NfK7j"
      }
    },
    {
      "cell_type": "code",
      "execution_count": null,
      "metadata": {
        "id": "XnZoq38q-wJF",
        "outputId": "b33173cb-ccab-47bc-cc66-e817ecd0aca4",
        "colab": {
          "base_uri": "https://localhost:8080/"
        }
      },
      "outputs": [
        {
          "output_type": "stream",
          "name": "stdout",
          "text": [
            "Matriz inicial: \n",
            "[[ 2.  3. -1.]\n",
            " [ 4.  4. -3.]\n",
            " [ 2. -3.  1.]]\n",
            "\n",
            "Det: -20.0\n",
            "\n",
            "Info: \n",
            "0\n",
            "\n",
            "Matriz final: \n",
            "[[ 4.   4.  -3. ]\n",
            " [ 0.  -5.   2.5]\n",
            " [ 0.   0.   1. ]]\n",
            "\n",
            "Vetor Solucao: \n",
            "[1. 2. 3.]\n"
          ]
        }
      ],
      "source": [
        "A1 = np.array([[2.0, 3.0, -1.0],\n",
        "              [4.0, 4.0, -3.0],\n",
        "              [2.0, -3.0, 1.0]])\n",
        "b1 = np.array([5.0, 3.0, -1.0])\n",
        "\n",
        "A2 = np.array([[1.5, 5.4, 3.3],\n",
        "              [4.2, 2.3, 4.5],\n",
        "              [2.7, 5.7, 7.8]])\n",
        "b2 = np.array([10.0, 11.7, 8.9])\n",
        "\n",
        "print(f'Matriz inicial: \\n{A1}')\n",
        "solucao = eliminacaoGauss(3, A1, b1, 'Sem pivotamento')\n",
        "print(f'\\nVetor Solucao: \\n{solucao}')"
      ]
    },
    {
      "cell_type": "code",
      "source": [
        "A3 = np.array([[3.0, 2.0, 4.0],\n",
        "              [1.0, 1.0, 2.0],\n",
        "              [4.0, 3.0, -2.0]])\n",
        "b3 = np.array([1.0, 2.0, 3.0])\n",
        "\n",
        "print(f'Matriz inicial: \\n{A3}')\n",
        "solucao = FatoracaoLU(3, 3, A1, b1)\n",
        "print(f'\\nVetor Solucao: \\n{solucao}')"
      ],
      "metadata": {
        "colab": {
          "base_uri": "https://localhost:8080/"
        },
        "id": "rtJipQFyRfF4",
        "outputId": "6dab02af-6c9e-4992-e63e-c00d93d3ec29"
      },
      "execution_count": null,
      "outputs": [
        {
          "output_type": "stream",
          "name": "stdout",
          "text": [
            "Matriz inicial: \n",
            "[[ 3.  2.  4.]\n",
            " [ 1.  1.  2.]\n",
            " [ 4.  3. -2.]]\n",
            "\n",
            "Pivot: [0, 1, 2]\n",
            "\n",
            "PdU: -20.0\n",
            "\n",
            "Matriz U: \n",
            "[[ 4.   4.  -3. ]\n",
            " [ 0.  -5.   2.5]\n",
            " [ 0.   0.   1. ]] \n",
            "\n",
            "Matriz L: \n",
            "[[ 1.  0.  0.]\n",
            " [ 0.  1.  0.]\n",
            " [ 0. -0.  1.]]\n",
            "\n",
            "Vetor Solucao: \n",
            "[1. 2. 3.]\n"
          ]
        }
      ]
    },
    {
      "cell_type": "code",
      "source": [
        "A4 = np.array([[1.0, 1.0, 0.0],\n",
        "              [1.0, 2.0, -1.0],\n",
        "              [0.0, -1.0, 3.0]])\n",
        "b4 = np.array([2.0, 1.0, 5.0])\n",
        "\n",
        "A5 = np.array([[4.0, 2.0, -4.0],\n",
        "              [2.0, 10.0, 4.0],\n",
        "              [-4.0, 4.0, 9.0]])\n",
        "b5 = np.array([0.0, 6.0, 5.0])\n",
        "\n",
        "\n",
        "print(f'Matriz inicial: \\n{A5}')\n",
        "solucao = fatoracaoCholesky(3, A5, b5)\n",
        "print(f'\\nVetor Solucao: \\n{solucao}')"
      ],
      "metadata": {
        "colab": {
          "base_uri": "https://localhost:8080/"
        },
        "id": "-MXlhCjwhc98",
        "outputId": "04e66d16-288b-41f1-f91e-ba83a5cbd71d"
      },
      "execution_count": null,
      "outputs": [
        {
          "output_type": "stream",
          "name": "stdout",
          "text": [
            "Matriz inicial: \n",
            "[[ 4.  2. -4.]\n",
            " [ 2. 10.  4.]\n",
            " [-4.  4.  9.]]\n",
            "\n",
            "Det: 36.0\n",
            "\n",
            "Info: 0\n",
            "\n",
            "Matriz G: \n",
            "[[ 2.  0.  0.]\n",
            " [ 1.  3.  0.]\n",
            " [-2.  2.  1.]] \n",
            "\n",
            "Matriz Gt: \n",
            "[[ 2.  1. -2.]\n",
            " [ 0.  3.  2.]\n",
            " [ 0.  0.  1.]]\n",
            "\n",
            "Vetor Solucao: \n",
            "[1. 0. 1.]\n"
          ]
        }
      ]
    },
    {
      "cell_type": "code",
      "source": [
        "A6 = np.array([[10.0, 2.0, 1.0],\n",
        "              [1.0, 5.0, 1.0],\n",
        "              [2.0, 3.0, 10.0]])\n",
        "b6 = np.array([7.0, -8.0, 6.0])\n",
        "\n",
        "solucao = GaussJacobi(3, A6, b6, 0.05, 10)\n",
        "print(f'\\nVetor Solucao: \\n{solucao}')\n",
        "\n",
        "solucao = GaussSeidel(3, A6, b6, 0.05, 10)\n",
        "print(f'\\nVetor Solucao: \\n{solucao}')"
      ],
      "metadata": {
        "colab": {
          "base_uri": "https://localhost:8080/"
        },
        "id": "1mY_RP71ib3O",
        "outputId": "da994a65-7235-4608-9ae2-d5241b5db8b8"
      },
      "execution_count": null,
      "outputs": [
        {
          "output_type": "stream",
          "name": "stdout",
          "text": [
            "\n",
            "Teste Raio Espectral: \n",
            "Não converge\n",
            "\n",
            "Teste critério Linhas: \n",
            "Converge\n",
            "\n",
            "Teste critério Colunas: \n",
            "Não converge\n",
            "\n",
            "Iter: 3\n",
            "\n",
            "Info: 0\n",
            "\n",
            "Vetor Solucao: \n",
            "[0.9994, -1.9888, 0.9983999999999998]\n",
            "\n",
            "Teste Raio Espectral: \n",
            "Não converge\n",
            "\n",
            "Teste critério Linhas: \n",
            "Converge\n",
            "\n",
            "Teste critério Colunas: \n",
            "Não converge\n",
            "\n",
            "Teste critério Sassenfeld: \n",
            "Converge\n",
            "\n",
            "Iter: 2\n",
            "\n",
            "Info: 0\n",
            "\n",
            "Vetor Solucao: \n",
            "[0.9842400000000001, -1.993168, 1.0011024]\n"
          ]
        }
      ]
    }
  ]
}